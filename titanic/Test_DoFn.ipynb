{
 "cells": [
  {
   "cell_type": "code",
   "execution_count": 1,
   "metadata": {},
   "outputs": [],
   "source": [
    "import apache_beam as beam\n",
    "import tensorflow as tf"
   ]
  },
  {
   "cell_type": "code",
   "execution_count": null,
   "metadata": {},
   "outputs": [],
   "source": [
    "# https://beam.apache.org/documentation/transforms/python/elementwise/pardo/#example-3-pardo-with-dofn-methods\n",
    "# https://beam.apache.org/releases/javadoc/2.4.0/org/apache/beam/sdk/transforms/DoFn.Setup.html\n",
    "# tfx_bsl/beam/run_inference.py\n",
    "class RunModel(beam.DoFn):\n",
    "  def __init__(self, model_path, signature_name):\n",
    "    self.model_path = model_path\n",
    "    self.signature_name = signature_name\n",
    "    self.tags = [tf.saved_model.SERVING] # == 'serve' => tensorflow/python/saved_model/tag_constants.py\n",
    "    self.session = None\n",
    "    \n",
    "  def setup(self):\n",
    "    session = tf.compat.v1.Session(graph=tf.compat.v1.Graph())\n",
    "    tf.compat.v1.saved_model.loader.load(session, self.tags, self.model_path)     \n",
    "    self.session = session\n",
    "    \n",
    "  def process(self, elements) -> Iterable[Any]:\n",
    "    # TODO\n",
    "#     outputs = self.session.run(\n",
    "#         self._io_tensor_spec.output_alias_tensor_names,\n",
    "#         feed_dict={self._io_tensor_spec.input_tensor_name: input_values})\n",
    "    \n",
    "    return outputs\n",
    "  \n",
    "\n",
    "# with beam.Pipeline() as pipeline:\n",
    "#   test_data = pipeline | 'ReadFromTFRecord' >> beam.io.ReadFromTFRecord(file_pattern='/Users/XXX/kagglepipe/titanic/data/test/test.tfrecord')\n",
    "#   (test_data | 'ParseToExample' >> beam.Map(tf.train.Example.FromString)\n",
    "#   | 'Prediction' >> beam.ParDo(RunModel('/Users/XXX/kagglepipe/titanic/pipeline/Trainer/model/30/serving_model_dir/', 'serving_default'))\n",
    "#   | beam.Map(print))"
   ]
  },
  {
   "cell_type": "code",
   "execution_count": null,
   "metadata": {},
   "outputs": [],
   "source": []
  }
 ],
 "metadata": {
  "kernelspec": {
   "display_name": "Python 3",
   "language": "python",
   "name": "python3"
  },
  "language_info": {
   "codemirror_mode": {
    "name": "ipython",
    "version": 3
   },
   "file_extension": ".py",
   "mimetype": "text/x-python",
   "name": "python",
   "nbconvert_exporter": "python",
   "pygments_lexer": "ipython3",
   "version": "3.6.8"
  }
 },
 "nbformat": 4,
 "nbformat_minor": 4
}
