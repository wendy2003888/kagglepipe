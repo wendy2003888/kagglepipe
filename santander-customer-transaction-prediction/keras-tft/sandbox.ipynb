{
 "cells": [
  {
   "cell_type": "markdown",
   "metadata": {},
   "source": [
    "# TFMA Visualization"
   ]
  },
  {
   "cell_type": "code",
   "execution_count": 1,
   "metadata": {},
   "outputs": [
    {
     "name": "stdout",
     "output_type": "stream",
     "text": [
      "Enabling notebook extension jupyter-js-widgets/extension...\n",
      "      - Validating: \u001b[32mOK\u001b[0m\n",
      "2020-05-15 18:18:12.478192: W tensorflow/stream_executor/platform/default/dso_loader.cc:55] Could not load dynamic library 'libnvinfer.so.6'; dlerror: libnvinfer.so.6: cannot open shared object file: No such file or directory\n",
      "2020-05-15 18:18:12.478273: W tensorflow/stream_executor/platform/default/dso_loader.cc:55] Could not load dynamic library 'libnvinfer_plugin.so.6'; dlerror: libnvinfer_plugin.so.6: cannot open shared object file: No such file or directory\n",
      "2020-05-15 18:18:12.478283: W tensorflow/compiler/tf2tensorrt/utils/py_utils.cc:30] Cannot dlopen some TensorRT libraries. If you would like to use Nvidia GPU with TensorRT, please make sure the missing libraries mentioned above are installed properly.\n",
      "Enabling notebook extension tensorflow_model_analysis/extension...\n",
      "      - Validating: \u001b[32mOK\u001b[0m\n"
     ]
    }
   ],
   "source": [
    "# To enable TFMA visulization, please enable the Notebook Extention and restart kernel.\n",
    "!jupyter nbextension enable --py widgetsnbextension\n",
    "!jupyter nbextension enable --py tensorflow_model_analysis"
   ]
  },
  {
   "cell_type": "code",
   "execution_count": 1,
   "metadata": {},
   "outputs": [
    {
     "name": "stdout",
     "output_type": "stream",
     "text": [
      "WARNING:tensorflow:From /usr/local/google/home/renming/envtfx/lib/python3.7/site-packages/tensorflow_model_analysis/writers/metrics_and_plots_serialization.py:127: tf_record_iterator (from tensorflow.python.lib.io.tf_record) is deprecated and will be removed in a future version.\n",
      "Instructions for updating:\n",
      "Use eager execution and: \n",
      "`tf.data.TFRecordDataset(path)`\n",
      "eval result loaded\n"
     ]
    }
   ],
   "source": [
    "import tensorflow_model_analysis as tfma\n",
    "import tensorflow as tf\n",
    "import os\n",
    "import json\n",
    "\n",
    "eval_result_folder = \"/var/tmp/santander/keras-tft/Evaluator/evaluation/8\"\n",
    "# replace your evaluation result path which should contains a \"eval_config.json\"\n",
    "eval_result = tfma.load_eval_result(eval_result_folder)\n",
    "print('eval result loaded')"
   ]
  },
  {
   "cell_type": "code",
   "execution_count": 3,
   "metadata": {},
   "outputs": [
    {
     "name": "stdout",
     "output_type": "stream",
     "text": [
      "hello\n"
     ]
    }
   ],
   "source": [
    "def get_slicing_spec(eval_result_folder):\n",
    "    config_file=tf.io.gfile.GFile(os.path.join(eval_result_folder, 'eval_config.json'), 'r')\n",
    "    config=json.loads(config_file.read())\n",
    "    feature_keys=list(filter(lambda x: 'featureKeys' in x, config['evalConfig']['slicingSpecs']))\n",
    "    columns=[] if len(feature_keys) == 0 else feature_keys[0]['featureKeys']\n",
    "    return tfma.slicer.SingleSliceSpec(columns=columns)\n",
    "\n",
    "# Or hardcode one\n",
    "# tfma.view.render_slicing_metrics(eval_result, slicing_column='var_0')\n",
    "slicing_spec = get_slicing_spec(eval_result_folder)\n",
    "tfma.view.render_slicing_metrics(eval_result, slicing_spec=slicing_spec)\n",
    "print('hello')"
   ]
  },
  {
   "cell_type": "markdown",
   "metadata": {},
   "source": [
    "# TensorBoard Visualization on TFT"
   ]
  },
  {
   "cell_type": "markdown",
   "metadata": {},
   "source": [
    "\n",
    "```shell\n",
    "curl https://raw.githubusercontent.com/tensorflow/tensorflow/master/tensorflow/python/tools/import_pb_to_tensorboard.py > import_pb_to_tensorboard.py\n",
    "\n",
    "python import_pb_to_tensorboard.py --model_dir /var/tmp/santander/pusher/1587532679/ --log_dir /var/tmp/santander/tmp/\n",
    "\n",
    "tensorboard --logdir=/var/tmp/santander/tmp/\n",
    "```\n",
    "\n"
   ]
  },
  {
   "cell_type": "markdown",
   "metadata": {},
   "source": [
    "# Beam"
   ]
  },
  {
   "cell_type": "code",
   "execution_count": 14,
   "metadata": {},
   "outputs": [
    {
     "name": "stdout",
     "output_type": "stream",
     "text": [
      "[('p', 1), ('a', 2), ('z', 3), ('m', 2)]\n",
      "[('a', 2), ('m', 2), ('p', 1), ('z', 3)]\n",
      "ID_code,target\r\n",
      "a,2\r\n",
      "m,2\r\n",
      "p,1\r\n",
      "z,3\r\n"
     ]
    }
   ],
   "source": [
    "import apache_beam as beam\n",
    "\n",
    "data = []\n",
    "with beam.Pipeline() as pipeline:\n",
    "  intrim = pipeline | 'Data' >> beam.Create([\n",
    "          ('p', 1),\n",
    "          ('a', 2),\n",
    "          ('z', 3),\n",
    "          ('m', 2),])\n",
    "  intrim = intrim | 'Sink' >> beam.Map(lambda item: data.append(item))\n",
    "\n",
    "print(data)\n",
    "data.sort(key = lambda item: item[0] )\n",
    "print(data)\n",
    "\n",
    "with open('/var/tmp/tmp.csv', 'w') as file:\n",
    "  file.write('ID_code,target\\n')\n",
    "  for item in data:\n",
    "    file.write('{0},{1}\\n'.format(item[0], item[1])) \n",
    "    \n",
    "!cat /var/tmp/tmp.csv"
   ]
  },
  {
   "cell_type": "code",
   "execution_count": null,
   "metadata": {},
   "outputs": [
    {
     "name": "stderr",
     "output_type": "stream",
     "text": [
      "WARNING:root:Downloading job server jar from https://repo.maven.apache.org/maven2/org/apache/beam/beam-runners-flink-1.9-job-server/2.17.0/beam-runners-flink-1.9-job-server-2.17.0.jar\n"
     ]
    }
   ],
   "source": [
    "import apache_beam as beam\n",
    "from apache_beam.transforms.userstate import CombiningValueStateSpec\n",
    "from apache_beam.transforms.core import GroupByKey\n",
    "from apache_beam.options.pipeline_options import PipelineOptions\n",
    "\n",
    "class IndexAssigningStatefulDoFn(beam.DoFn):\n",
    "  # per-key-and-window, first in element is key\n",
    "  index_state = beam.DoFn.StateParam(CombiningValueStateSpec('index', sum))\n",
    "  \n",
    "  def __init__(self):\n",
    "    # unmanaged state only can work in single-processor multi-thread env\n",
    "    self.unmanaged_state = 10\n",
    "  \n",
    "  def process(self, element, index=index_state):\n",
    "    current_index = index.read()\n",
    "    index.add(1)\n",
    "    self.unmanaged_state = self.unmanaged_state + 1\n",
    "    print(self.unmanaged_state)\n",
    "    yield (element, current_index)\n",
    "\n",
    "def sort_data(data):\n",
    "  result = data.copy()\n",
    "  result.sort(key=lambda item: item[0])\n",
    "  return result\n",
    "\n",
    "options1 = PipelineOptions([\n",
    "    \"--runner=FlinkRunner\",\n",
    "    \"--flink_version=1.9\",\n",
    "    \"--flink_master=localhost:8081\",\n",
    "    \"--environment_type=LOOPBACK\"\n",
    "])\n",
    "options2 = PipelineOptions([\n",
    "    \"--runner=DirectRunner\",\n",
    "    \"--direct_num_workers=4\"\n",
    "])\n",
    "with beam.Pipeline(options=options1) as pipeline:\n",
    "  intrim = pipeline | 'Data' >> beam.Create([\n",
    "          ('p', 1),\n",
    "          ('a', 2),\n",
    "          ('p', 3),\n",
    "          ('m', 2),])\n",
    "  intrim = intrim | beam.Map(lambda it: (0, it)) # same key\n",
    "  intrim = intrim | 'window' >> beam.WindowInto(beam.window.GlobalWindows()) # same window\n",
    "  intrim = intrim | GroupByKey() # all to one\n",
    "  # intrim = intrim | beam.ParDo(IndexAssigningStatefulDoFn())\n",
    "  intrim = intrim | beam.Map(lambda item: item[1]) # remove dummy key\n",
    "  intrim = intrim | beam.Map(sort_data) # sort all-in-one\n",
    "  intrim = intrim | beam.Map(print)\n"
   ]
  },
  {
   "cell_type": "code",
   "execution_count": null,
   "metadata": {},
   "outputs": [],
   "source": []
  }
 ],
 "metadata": {
  "kernelspec": {
   "display_name": "Python 3",
   "language": "python",
   "name": "python3"
  },
  "language_info": {
   "codemirror_mode": {
    "name": "ipython",
    "version": 3
   },
   "file_extension": ".py",
   "mimetype": "text/x-python",
   "name": "python",
   "nbconvert_exporter": "python",
   "pygments_lexer": "ipython3",
   "version": "3.7.5"
  }
 },
 "nbformat": 4,
 "nbformat_minor": 4
}
